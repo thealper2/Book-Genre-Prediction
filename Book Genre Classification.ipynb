{
 "cells": [
  {
   "cell_type": "code",
   "execution_count": 85,
   "id": "751469c1",
   "metadata": {},
   "outputs": [],
   "source": [
    "import pandas as pd\n",
    "import numpy as np\n",
    "import re\n",
    "import nltk\n",
    "import string\n",
    "import pickle\n",
    "from sklearn.feature_extraction.text import TfidfVectorizer, CountVectorizer\n",
    "from sklearn.model_selection import train_test_split\n",
    "from sklearn.tree import DecisionTreeClassifier\n",
    "from sklearn.svm import SVC\n",
    "from sklearn.metrics import accuracy_score\n",
    "from sklearn.preprocessing import LabelEncoder\n",
    "from sklearn.ensemble import RandomForestClassifier\n",
    "from sklearn.naive_bayes import GaussianNB, MultinomialNB\n",
    "from nltk.corpus import stopwords\n",
    "from nltk.stem import PorterStemmer, WordNetLemmatizer\n",
    "\n",
    "#nltk.download(\"all\")"
   ]
  },
  {
   "cell_type": "code",
   "execution_count": null,
   "id": "fd10a6f2",
   "metadata": {},
   "outputs": [],
   "source": [
    "df = pd.read_csv(\"data.csv\")"
   ]
  },
  {
   "cell_type": "code",
   "execution_count": 54,
   "id": "61292b65",
   "metadata": {},
   "outputs": [
    {
     "data": {
      "text/plain": [
       "index      0\n",
       "title      0\n",
       "genre      0\n",
       "summary    0\n",
       "dtype: int64"
      ]
     },
     "execution_count": 54,
     "metadata": {},
     "output_type": "execute_result"
    }
   ],
   "source": [
    "df.isnull().sum()"
   ]
  },
  {
   "cell_type": "code",
   "execution_count": 55,
   "id": "c00912f1",
   "metadata": {},
   "outputs": [],
   "source": [
    "stop_words_list = stopwords.words(\"english\")"
   ]
  },
  {
   "cell_type": "code",
   "execution_count": 56,
   "id": "da618753",
   "metadata": {},
   "outputs": [],
   "source": [
    "def preprocess(text):\n",
    "    text = text.lower()\n",
    "    text = re.sub(r\"\\'\", ' ', text)\n",
    "    text = text.translate(str.maketrans(\"\", \"\", string.punctuation))\n",
    "    words = text.split()\n",
    "    words = [word for word in words if not word in stop_words_list]\n",
    "    words = [word.strip() for word in words if len(word.strip()) > 1]\n",
    "    text = \" \".join(words)\n",
    "    return text"
   ]
  },
  {
   "cell_type": "code",
   "execution_count": 57,
   "id": "c836e6d6",
   "metadata": {},
   "outputs": [],
   "source": [
    "df[\"summary\"] = df[\"summary\"].apply(preprocess)"
   ]
  },
  {
   "cell_type": "code",
   "execution_count": 59,
   "id": "a2a47c69",
   "metadata": {},
   "outputs": [],
   "source": [
    "def lemmatizing(text):\n",
    "    lemmatizer = WordNetLemmatizer()\n",
    "    stemmed_text = \"\"\n",
    "    for word in text.split():\n",
    "        stem = lemmatizer.lemmatize(word)\n",
    "        stemmed_text += stem\n",
    "        stemmed_text += \" \"\n",
    "        \n",
    "    stemmed_text = stemmed_text.strip()\n",
    "    return stemmed_text"
   ]
  },
  {
   "cell_type": "code",
   "execution_count": 63,
   "id": "822afefc",
   "metadata": {},
   "outputs": [],
   "source": [
    "df[\"summary\"] = df[\"summary\"].apply(lemmatizing)"
   ]
  },
  {
   "cell_type": "code",
   "execution_count": 69,
   "id": "7a3289e9",
   "metadata": {},
   "outputs": [],
   "source": [
    "def stemming(text):\n",
    "    stemmed_text = \"\"\n",
    "    stemmer = PorterStemmer()\n",
    "    for word in text.split():\n",
    "        stem = stemmer.stem(word)\n",
    "        stemmed_text += stem\n",
    "        stemmed_text += \" \"\n",
    "        \n",
    "    stemmed_text = stemmed_text.strip()\n",
    "    return stemmed_text"
   ]
  },
  {
   "cell_type": "code",
   "execution_count": 70,
   "id": "2f8a0a36",
   "metadata": {},
   "outputs": [],
   "source": [
    "df[\"summary\"] = df[\"summary\"].apply(stemming)"
   ]
  },
  {
   "cell_type": "code",
   "execution_count": 73,
   "id": "a91b4fb3",
   "metadata": {},
   "outputs": [
    {
     "data": {
      "text/plain": [
       "{'crime': 0,\n",
       " 'fantasy': 1,\n",
       " 'history': 2,\n",
       " 'horror': 3,\n",
       " 'psychology': 4,\n",
       " 'romance': 5,\n",
       " 'science': 6,\n",
       " 'sports': 7,\n",
       " 'thriller': 8,\n",
       " 'travel': 9}"
      ]
     },
     "execution_count": 73,
     "metadata": {},
     "output_type": "execute_result"
    }
   ],
   "source": [
    "le = LabelEncoder().fit(df[\"genre\"])\n",
    "le_nm = dict(zip(le.classes_, le.transform(le.classes_)))\n",
    "df[\"genre\"] = df[\"genre\"].apply(lambda x: le_nm[x])\n",
    "le_nm"
   ]
  },
  {
   "cell_type": "code",
   "execution_count": 82,
   "id": "9c8ad33c",
   "metadata": {},
   "outputs": [],
   "source": [
    "count_vectorizer = CountVectorizer(max_features=1000)\n",
    "bow = count_vectorizer.fit_transform(df[\"summary\"])\n",
    "X = df[\"summary\"]\n",
    "y = df[\"genre\"]"
   ]
  },
  {
   "cell_type": "code",
   "execution_count": 83,
   "id": "b6b85a62",
   "metadata": {},
   "outputs": [
    {
     "data": {
      "text/plain": [
       "<4657x1000 sparse matrix of type '<class 'numpy.int64'>'\n",
       "\twith 342334 stored elements in Compressed Sparse Row format>"
      ]
     },
     "execution_count": 83,
     "metadata": {},
     "output_type": "execute_result"
    }
   ],
   "source": [
    "bow"
   ]
  },
  {
   "cell_type": "code",
   "execution_count": 84,
   "id": "084ddb62",
   "metadata": {},
   "outputs": [],
   "source": [
    "X_train, X_test, y_train, y_test = train_test_split(bow, y, test_size=0.2, random_state=4242)"
   ]
  },
  {
   "cell_type": "code",
   "execution_count": 86,
   "id": "053c9d06",
   "metadata": {},
   "outputs": [
    {
     "name": "stdout",
     "output_type": "stream",
     "text": [
      "MultinomialNB:  0.6223175965665236\n"
     ]
    }
   ],
   "source": [
    "mb = MultinomialNB()\n",
    "mb.fit(X_train, y_train)\n",
    "y_pred = mb.predict(X_test)\n",
    "print(\"MultinomialNB: \", accuracy_score(y_test, y_pred))"
   ]
  },
  {
   "cell_type": "code",
   "execution_count": 87,
   "id": "cc910ebf",
   "metadata": {},
   "outputs": [
    {
     "name": "stdout",
     "output_type": "stream",
     "text": [
      "SVC:  0.5472103004291845\n"
     ]
    }
   ],
   "source": [
    "svc = SVC()\n",
    "svc.fit(X_train, y_train)\n",
    "y_pred = svc.predict(X_test)\n",
    "print(\"SVC: \", accuracy_score(y_test, y_pred))"
   ]
  },
  {
   "cell_type": "code",
   "execution_count": 88,
   "id": "7ae4cef7",
   "metadata": {},
   "outputs": [
    {
     "name": "stdout",
     "output_type": "stream",
     "text": [
      "RandomForest:  0.5954935622317596\n"
     ]
    }
   ],
   "source": [
    "rf = RandomForestClassifier()\n",
    "rf.fit(X_train, y_train)\n",
    "y_pred = rf.predict(X_test)\n",
    "print(\"RandomForest: \", accuracy_score(y_test, y_pred))"
   ]
  },
  {
   "cell_type": "code",
   "execution_count": 90,
   "id": "2f36c4a7",
   "metadata": {},
   "outputs": [],
   "source": [
    "X_train, X_test, y_train, y_test = train_test_split(X, y, test_size=0.2, random_state=4242)"
   ]
  },
  {
   "cell_type": "code",
   "execution_count": 91,
   "id": "f41a2d63",
   "metadata": {},
   "outputs": [],
   "source": [
    "tfidf = TfidfVectorizer(max_features=10000)\n",
    "X_train_scaled = tfidf.fit_transform(X_train.values.astype(\"U\"))\n",
    "X_test_scaled = tfidf.transform(X_test.values.astype(\"U\"))"
   ]
  },
  {
   "cell_type": "code",
   "execution_count": 92,
   "id": "566e4e20",
   "metadata": {},
   "outputs": [
    {
     "name": "stdout",
     "output_type": "stream",
     "text": [
      "SVC:  0.6459227467811158\n"
     ]
    }
   ],
   "source": [
    "svc = SVC()\n",
    "svc.fit(X_train_scaled, y_train)\n",
    "y_pred = svc.predict(X_test_scaled)\n",
    "print(\"SVC: \", accuracy_score(y_test, y_pred))"
   ]
  },
  {
   "cell_type": "code",
   "execution_count": 93,
   "id": "2064cd9a",
   "metadata": {},
   "outputs": [
    {
     "name": "stdout",
     "output_type": "stream",
     "text": [
      "MultinomialNB:  0.5321888412017167\n"
     ]
    }
   ],
   "source": [
    "mb = MultinomialNB()\n",
    "mb.fit(X_train_scaled, y_train)\n",
    "y_pred = mb.predict(X_test_scaled)\n",
    "print(\"MultinomialNB: \", accuracy_score(y_test, y_pred))"
   ]
  },
  {
   "cell_type": "code",
   "execution_count": 94,
   "id": "bfc8113d",
   "metadata": {},
   "outputs": [
    {
     "name": "stdout",
     "output_type": "stream",
     "text": [
      "RandomForest:  0.6083690987124464\n"
     ]
    }
   ],
   "source": [
    "rf = RandomForestClassifier()\n",
    "rf.fit(X_train_scaled, y_train)\n",
    "y_pred = rf.predict(X_test_scaled)\n",
    "print(\"RandomForest: \", accuracy_score(y_test, y_pred))"
   ]
  },
  {
   "cell_type": "code",
   "execution_count": 95,
   "id": "d5067f64",
   "metadata": {},
   "outputs": [],
   "source": [
    "pickle.dump(svc, open(\"SVCmodel.pickle\", \"wb\"))"
   ]
  },
  {
   "cell_type": "code",
   "execution_count": 96,
   "id": "89304e66",
   "metadata": {},
   "outputs": [],
   "source": [
    "pickle.dump(tfidf, open(\"TFIDFmodel.pickle\", \"wb\"))"
   ]
  },
  {
   "cell_type": "code",
   "execution_count": null,
   "id": "3e64152e",
   "metadata": {},
   "outputs": [],
   "source": []
  }
 ],
 "metadata": {
  "kernelspec": {
   "display_name": "Python 3 (ipykernel)",
   "language": "python",
   "name": "python3"
  },
  "language_info": {
   "codemirror_mode": {
    "name": "ipython",
    "version": 3
   },
   "file_extension": ".py",
   "mimetype": "text/x-python",
   "name": "python",
   "nbconvert_exporter": "python",
   "pygments_lexer": "ipython3",
   "version": "3.8.16"
  }
 },
 "nbformat": 4,
 "nbformat_minor": 5
}
